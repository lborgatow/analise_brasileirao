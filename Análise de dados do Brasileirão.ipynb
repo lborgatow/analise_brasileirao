{
 "cells": [
  {
   "cell_type": "markdown",
   "id": "a280b5af",
   "metadata": {
    "id": "a280b5af"
   },
   "source": [
    "## **Importação das bibliotecas necessárias**"
   ]
  },
  {
   "cell_type": "code",
   "execution_count": 1,
   "id": "7398c63c",
   "metadata": {
    "id": "7398c63c"
   },
   "outputs": [],
   "source": [
    "import pandas as pd\n",
    "import numpy as np\n",
    "\n",
    "import matplotlib.pyplot as plt\n",
    "import seaborn as sns"
   ]
  },
  {
   "cell_type": "markdown",
   "id": "44380ae3",
   "metadata": {
    "id": "44380ae3"
   },
   "source": [
    "## **Leitura e visualização dos dados**"
   ]
  },
  {
   "cell_type": "code",
   "execution_count": 2,
   "id": "163a25cc",
   "metadata": {
    "id": "163a25cc"
   },
   "outputs": [
    {
     "data": {
      "text/html": [
       "<div>\n",
       "<style scoped>\n",
       "    .dataframe tbody tr th:only-of-type {\n",
       "        vertical-align: middle;\n",
       "    }\n",
       "\n",
       "    .dataframe tbody tr th {\n",
       "        vertical-align: top;\n",
       "    }\n",
       "\n",
       "    .dataframe thead th {\n",
       "        text-align: right;\n",
       "    }\n",
       "</style>\n",
       "<table border=\"1\" class=\"dataframe\">\n",
       "  <thead>\n",
       "    <tr style=\"text-align: right;\">\n",
       "      <th></th>\n",
       "      <th>datetime</th>\n",
       "      <th>home_team</th>\n",
       "      <th>home_team_state</th>\n",
       "      <th>away_team</th>\n",
       "      <th>away_team_state</th>\n",
       "      <th>home_goal</th>\n",
       "      <th>away_goal</th>\n",
       "      <th>season</th>\n",
       "      <th>round</th>\n",
       "    </tr>\n",
       "  </thead>\n",
       "  <tbody>\n",
       "    <tr>\n",
       "      <th>0</th>\n",
       "      <td>2012-05-19 18:30:00</td>\n",
       "      <td>Palmeiras-SP</td>\n",
       "      <td>SP</td>\n",
       "      <td>Portuguesa-SP</td>\n",
       "      <td>SP</td>\n",
       "      <td>1.0</td>\n",
       "      <td>1.0</td>\n",
       "      <td>2012</td>\n",
       "      <td>1</td>\n",
       "    </tr>\n",
       "    <tr>\n",
       "      <th>1</th>\n",
       "      <td>2012-05-19 18:30:00</td>\n",
       "      <td>Sport-PE</td>\n",
       "      <td>PE</td>\n",
       "      <td>Flamengo-RJ</td>\n",
       "      <td>RJ</td>\n",
       "      <td>1.0</td>\n",
       "      <td>1.0</td>\n",
       "      <td>2012</td>\n",
       "      <td>1</td>\n",
       "    </tr>\n",
       "    <tr>\n",
       "      <th>2</th>\n",
       "      <td>2012-05-19 21:00:00</td>\n",
       "      <td>Figueirense-SC</td>\n",
       "      <td>SC</td>\n",
       "      <td>Nautico-PE</td>\n",
       "      <td>PE</td>\n",
       "      <td>2.0</td>\n",
       "      <td>1.0</td>\n",
       "      <td>2012</td>\n",
       "      <td>1</td>\n",
       "    </tr>\n",
       "    <tr>\n",
       "      <th>3</th>\n",
       "      <td>2012-05-20 16:00:00</td>\n",
       "      <td>Ponte Preta-SP</td>\n",
       "      <td>SP</td>\n",
       "      <td>Atletico-MG</td>\n",
       "      <td>MG</td>\n",
       "      <td>0.0</td>\n",
       "      <td>1.0</td>\n",
       "      <td>2012</td>\n",
       "      <td>1</td>\n",
       "    </tr>\n",
       "    <tr>\n",
       "      <th>4</th>\n",
       "      <td>2012-05-20 16:00:00</td>\n",
       "      <td>Corinthians-SP</td>\n",
       "      <td>SP</td>\n",
       "      <td>Fluminense-RJ</td>\n",
       "      <td>RJ</td>\n",
       "      <td>0.0</td>\n",
       "      <td>1.0</td>\n",
       "      <td>2012</td>\n",
       "      <td>1</td>\n",
       "    </tr>\n",
       "  </tbody>\n",
       "</table>\n",
       "</div>"
      ],
      "text/plain": [
       "              datetime       home_team home_team_state      away_team  \\\n",
       "0  2012-05-19 18:30:00    Palmeiras-SP              SP  Portuguesa-SP   \n",
       "1  2012-05-19 18:30:00        Sport-PE              PE    Flamengo-RJ   \n",
       "2  2012-05-19 21:00:00  Figueirense-SC              SC     Nautico-PE   \n",
       "3  2012-05-20 16:00:00  Ponte Preta-SP              SP    Atletico-MG   \n",
       "4  2012-05-20 16:00:00  Corinthians-SP              SP  Fluminense-RJ   \n",
       "\n",
       "  away_team_state  home_goal  away_goal  season  round  \n",
       "0              SP        1.0        1.0    2012      1  \n",
       "1              RJ        1.0        1.0    2012      1  \n",
       "2              PE        2.0        1.0    2012      1  \n",
       "3              MG        0.0        1.0    2012      1  \n",
       "4              RJ        0.0        1.0    2012      1  "
      ]
     },
     "execution_count": 2,
     "metadata": {},
     "output_type": "execute_result"
    }
   ],
   "source": [
    "brasileirao = pd.read_csv('dados/Brasileirao_Matches.csv', sep=',', encoding='utf-8')\n",
    "brasileirao.head()"
   ]
  },
  {
   "cell_type": "markdown",
   "id": "101f69a7",
   "metadata": {
    "id": "101f69a7"
   },
   "source": [
    "## **Organização e Tratamento dos dados**"
   ]
  },
  {
   "cell_type": "code",
   "execution_count": 3,
   "id": "84f6ef7e",
   "metadata": {
    "id": "84f6ef7e"
   },
   "outputs": [
    {
     "name": "stdout",
     "output_type": "stream",
     "text": [
      "<class 'pandas.core.frame.DataFrame'>\n",
      "RangeIndex: 4170 entries, 0 to 4169\n",
      "Data columns (total 9 columns):\n",
      " #   Column           Non-Null Count  Dtype  \n",
      "---  ------           --------------  -----  \n",
      " 0   datetime         4120 non-null   object \n",
      " 1   home_team        4170 non-null   object \n",
      " 2   home_team_state  4170 non-null   object \n",
      " 3   away_team        4170 non-null   object \n",
      " 4   away_team_state  4170 non-null   object \n",
      " 5   home_goal        4059 non-null   float64\n",
      " 6   away_goal        4059 non-null   float64\n",
      " 7   season           4170 non-null   int64  \n",
      " 8   round            4170 non-null   int64  \n",
      "dtypes: float64(2), int64(2), object(5)\n",
      "memory usage: 293.3+ KB\n"
     ]
    }
   ],
   "source": [
    "brasileirao.info()"
   ]
  },
  {
   "cell_type": "markdown",
   "id": "20e6f2ee",
   "metadata": {
    "id": "20e6f2ee"
   },
   "source": [
    "### Exclusão das colunas desnecessárias"
   ]
  },
  {
   "cell_type": "code",
   "execution_count": 4,
   "id": "6ff0f31f",
   "metadata": {
    "id": "6ff0f31f"
   },
   "outputs": [],
   "source": [
    "# Colunas do estado dos times são desnecessárias, pois os mesmos já estão inclusos nos nomes dos times.\n",
    "brasileirao.drop(columns=['home_team_state', 'away_team_state'], inplace=True)"
   ]
  },
  {
   "cell_type": "markdown",
   "id": "9c8283c5",
   "metadata": {
    "id": "9c8283c5"
   },
   "source": [
    "### Exclusão dos registros da temporada de 2022\n",
    "\n",
    "--> A temporada de 2022 ainda não foi finalizada, portanto não será utilizada nas análises."
   ]
  },
  {
   "cell_type": "code",
   "execution_count": 5,
   "id": "cf865eea",
   "metadata": {
    "id": "cf865eea"
   },
   "outputs": [],
   "source": [
    "# Armazena em uma lista todos os índices dos registros que contém dados da temporada 2022\n",
    "indices_2022 = brasileirao.loc[brasileirao.season.values == 2022].index\n",
    "\n",
    "# Remove todos os registros da temporada 2022 utilizando os índices\n",
    "brasileirao = brasileirao.drop(brasileirao.index[min(indices_2022)-1:max(indices_2022)+1])"
   ]
  },
  {
   "cell_type": "markdown",
   "id": "90869af8",
   "metadata": {
    "id": "90869af8"
   },
   "source": [
    "### Renomeação das colunas"
   ]
  },
  {
   "cell_type": "code",
   "execution_count": 6,
   "id": "465eeb4f",
   "metadata": {
    "id": "465eeb4f"
   },
   "outputs": [],
   "source": [
    "brasileirao.rename(columns={'datetime': 'data_jogo', \n",
    "                            'home_team':'time_casa', \n",
    "                            'away_team':'time_fora', \n",
    "                            'home_goal':'gols_casa',\n",
    "                            'away_goal': 'gols_fora',\n",
    "                            'season': 'temporada',\n",
    "                            'round': 'rodada'}, inplace=True)"
   ]
  },
  {
   "cell_type": "markdown",
   "id": "7432dba2",
   "metadata": {
    "id": "7432dba2"
   },
   "source": [
    "### Tratamento dos valores missing (NaN)"
   ]
  },
  {
   "cell_type": "code",
   "execution_count": 7,
   "id": "9ee5eab3",
   "metadata": {
    "id": "9ee5eab3"
   },
   "outputs": [
    {
     "data": {
      "text/plain": [
       "data_jogo    0\n",
       "time_casa    0\n",
       "time_fora    0\n",
       "gols_casa    1\n",
       "gols_fora    1\n",
       "temporada    0\n",
       "rodada       0\n",
       "dtype: int64"
      ]
     },
     "execution_count": 7,
     "metadata": {},
     "output_type": "execute_result"
    }
   ],
   "source": [
    "# Contagem dos valores NaN\n",
    "brasileirao.isnull().sum()"
   ]
  },
  {
   "cell_type": "code",
   "execution_count": 8,
   "id": "38d3e294",
   "metadata": {
    "id": "38d3e294"
   },
   "outputs": [],
   "source": [
    "# Substitui os valores nulos por 99 (somente para as primeiras análises), depois os registros nulos serão excluidos.\n",
    "brasileirao.fillna(99, inplace=True)"
   ]
  },
  {
   "cell_type": "markdown",
   "id": "d51cbf0f",
   "metadata": {
    "id": "d51cbf0f"
   },
   "source": [
    "### Tratamento da tipagem dos dados"
   ]
  },
  {
   "cell_type": "code",
   "execution_count": 9,
   "id": "9bd52b26",
   "metadata": {
    "id": "9bd52b26"
   },
   "outputs": [
    {
     "data": {
      "text/plain": [
       "data_jogo     object\n",
       "time_casa     object\n",
       "time_fora     object\n",
       "gols_casa    float64\n",
       "gols_fora    float64\n",
       "temporada      int64\n",
       "rodada         int64\n",
       "dtype: object"
      ]
     },
     "execution_count": 9,
     "metadata": {},
     "output_type": "execute_result"
    }
   ],
   "source": [
    "brasileirao.dtypes"
   ]
  },
  {
   "cell_type": "code",
   "execution_count": 10,
   "id": "a203082d",
   "metadata": {
    "id": "a203082d",
    "scrolled": false
   },
   "outputs": [],
   "source": [
    "brasileirao['data_jogo'] = pd.to_datetime(brasileirao['data_jogo'])\n",
    "brasileirao['gols_casa'] = brasileirao['gols_casa'].astype(np.int64)\n",
    "brasileirao['gols_fora'] = brasileirao['gols_fora'].astype(np.int64)"
   ]
  },
  {
   "cell_type": "code",
   "execution_count": 11,
   "id": "2fb3c066",
   "metadata": {
    "id": "2fb3c066"
   },
   "outputs": [
    {
     "data": {
      "text/plain": [
       "data_jogo    datetime64[ns]\n",
       "time_casa            object\n",
       "time_fora            object\n",
       "gols_casa             int64\n",
       "gols_fora             int64\n",
       "temporada             int64\n",
       "rodada                int64\n",
       "dtype: object"
      ]
     },
     "execution_count": 11,
     "metadata": {},
     "output_type": "execute_result"
    }
   ],
   "source": [
    "brasileirao.dtypes"
   ]
  },
  {
   "cell_type": "markdown",
   "id": "fa6d0fae",
   "metadata": {
    "id": "fa6d0fae"
   },
   "source": [
    "### Adição de colunas"
   ]
  },
  {
   "cell_type": "code",
   "execution_count": 12,
   "id": "be0ba014",
   "metadata": {
    "id": "be0ba014"
   },
   "outputs": [],
   "source": [
    "# Adiciona a coluna que apresenta o placar de cada jogo\n",
    "brasileirao['placar'] = brasileirao['gols_casa'].astype(str) + '-' + brasileirao['gols_fora'].astype(str) "
   ]
  },
  {
   "cell_type": "code",
   "execution_count": 13,
   "id": "e6cc5a6e",
   "metadata": {
    "id": "e6cc5a6e"
   },
   "outputs": [],
   "source": [
    "# Armazena os gols da casa e do visitante em listas\n",
    "gols_casa = [int(gols) for gols in brasileirao['gols_casa']]\n",
    "gols_visitante = [int(gols) for gols in brasileirao['gols_fora']]\n",
    "\n",
    "# Une os valores de gols_casa e gols_visitante de acordo com o índice\n",
    "# de cada lista\n",
    "placares = zip(gols_casa, gols_visitante)\n",
    "\n",
    "# Lista vazia para armazenar os resultados\n",
    "resultados = []\n",
    "\n",
    "for placar in placares:\n",
    "    # Se o time da casa fez mais gols que o visitante\n",
    "    if placar[0] > placar[1]:\n",
    "       resultados.append('Vitória Casa')\n",
    "    # Se os dois times fizeram a mesma quantidade de gols\n",
    "    elif placar[0] == placar[1]:\n",
    "       resultados.append('Empate')\n",
    "    # Se o time visitante fez mais gols que o time da casa\n",
    "    else:\n",
    "       resultados.append('Vitória Fora')\n",
    "\n",
    "# Adiciona a coluna que apresenta o resultado de cada jogo\n",
    "brasileirao['resultado'] = resultados"
   ]
  },
  {
   "cell_type": "code",
   "execution_count": 14,
   "id": "2419ee44",
   "metadata": {
    "id": "2419ee44"
   },
   "outputs": [
    {
     "data": {
      "text/html": [
       "<div>\n",
       "<style scoped>\n",
       "    .dataframe tbody tr th:only-of-type {\n",
       "        vertical-align: middle;\n",
       "    }\n",
       "\n",
       "    .dataframe tbody tr th {\n",
       "        vertical-align: top;\n",
       "    }\n",
       "\n",
       "    .dataframe thead th {\n",
       "        text-align: right;\n",
       "    }\n",
       "</style>\n",
       "<table border=\"1\" class=\"dataframe\">\n",
       "  <thead>\n",
       "    <tr style=\"text-align: right;\">\n",
       "      <th></th>\n",
       "      <th>data_jogo</th>\n",
       "      <th>time_casa</th>\n",
       "      <th>time_fora</th>\n",
       "      <th>gols_casa</th>\n",
       "      <th>gols_fora</th>\n",
       "      <th>temporada</th>\n",
       "      <th>rodada</th>\n",
       "      <th>placar</th>\n",
       "      <th>resultado</th>\n",
       "    </tr>\n",
       "  </thead>\n",
       "  <tbody>\n",
       "    <tr>\n",
       "      <th>0</th>\n",
       "      <td>2012-05-19 18:30:00</td>\n",
       "      <td>Palmeiras-SP</td>\n",
       "      <td>Portuguesa-SP</td>\n",
       "      <td>1</td>\n",
       "      <td>1</td>\n",
       "      <td>2012</td>\n",
       "      <td>1</td>\n",
       "      <td>1-1</td>\n",
       "      <td>Empate</td>\n",
       "    </tr>\n",
       "    <tr>\n",
       "      <th>1</th>\n",
       "      <td>2012-05-19 18:30:00</td>\n",
       "      <td>Sport-PE</td>\n",
       "      <td>Flamengo-RJ</td>\n",
       "      <td>1</td>\n",
       "      <td>1</td>\n",
       "      <td>2012</td>\n",
       "      <td>1</td>\n",
       "      <td>1-1</td>\n",
       "      <td>Empate</td>\n",
       "    </tr>\n",
       "    <tr>\n",
       "      <th>2</th>\n",
       "      <td>2012-05-19 21:00:00</td>\n",
       "      <td>Figueirense-SC</td>\n",
       "      <td>Nautico-PE</td>\n",
       "      <td>2</td>\n",
       "      <td>1</td>\n",
       "      <td>2012</td>\n",
       "      <td>1</td>\n",
       "      <td>2-1</td>\n",
       "      <td>Vitória Casa</td>\n",
       "    </tr>\n",
       "    <tr>\n",
       "      <th>3</th>\n",
       "      <td>2012-05-20 16:00:00</td>\n",
       "      <td>Ponte Preta-SP</td>\n",
       "      <td>Atletico-MG</td>\n",
       "      <td>0</td>\n",
       "      <td>1</td>\n",
       "      <td>2012</td>\n",
       "      <td>1</td>\n",
       "      <td>0-1</td>\n",
       "      <td>Vitória Fora</td>\n",
       "    </tr>\n",
       "    <tr>\n",
       "      <th>4</th>\n",
       "      <td>2012-05-20 16:00:00</td>\n",
       "      <td>Corinthians-SP</td>\n",
       "      <td>Fluminense-RJ</td>\n",
       "      <td>0</td>\n",
       "      <td>1</td>\n",
       "      <td>2012</td>\n",
       "      <td>1</td>\n",
       "      <td>0-1</td>\n",
       "      <td>Vitória Fora</td>\n",
       "    </tr>\n",
       "  </tbody>\n",
       "</table>\n",
       "</div>"
      ],
      "text/plain": [
       "            data_jogo       time_casa      time_fora  gols_casa  gols_fora  \\\n",
       "0 2012-05-19 18:30:00    Palmeiras-SP  Portuguesa-SP          1          1   \n",
       "1 2012-05-19 18:30:00        Sport-PE    Flamengo-RJ          1          1   \n",
       "2 2012-05-19 21:00:00  Figueirense-SC     Nautico-PE          2          1   \n",
       "3 2012-05-20 16:00:00  Ponte Preta-SP    Atletico-MG          0          1   \n",
       "4 2012-05-20 16:00:00  Corinthians-SP  Fluminense-RJ          0          1   \n",
       "\n",
       "   temporada  rodada placar     resultado  \n",
       "0       2012       1    1-1        Empate  \n",
       "1       2012       1    1-1        Empate  \n",
       "2       2012       1    2-1  Vitória Casa  \n",
       "3       2012       1    0-1  Vitória Fora  \n",
       "4       2012       1    0-1  Vitória Fora  "
      ]
     },
     "execution_count": 14,
     "metadata": {},
     "output_type": "execute_result"
    }
   ],
   "source": [
    "brasileirao.head()"
   ]
  },
  {
   "cell_type": "markdown",
   "id": "807dab8d",
   "metadata": {
    "id": "807dab8d"
   },
   "source": [
    "### Reordenação de colunas"
   ]
  },
  {
   "cell_type": "code",
   "execution_count": 15,
   "id": "7f41f46b",
   "metadata": {
    "id": "7f41f46b"
   },
   "outputs": [],
   "source": [
    "# Remove as colunas e armazena em uma variável em forma de Série\n",
    "temporadas = brasileirao.pop('temporada')\n",
    "rodadas = brasileirao.pop('rodada')\n",
    "\n",
    "# Insere as no DataFrame no índice desejado\n",
    "brasileirao.insert(0, 'temporada', temporadas)\n",
    "brasileirao.insert(2, 'rodada', rodadas)"
   ]
  },
  {
   "cell_type": "code",
   "execution_count": 16,
   "id": "2e74dfee",
   "metadata": {
    "id": "2e74dfee"
   },
   "outputs": [
    {
     "data": {
      "text/html": [
       "<div>\n",
       "<style scoped>\n",
       "    .dataframe tbody tr th:only-of-type {\n",
       "        vertical-align: middle;\n",
       "    }\n",
       "\n",
       "    .dataframe tbody tr th {\n",
       "        vertical-align: top;\n",
       "    }\n",
       "\n",
       "    .dataframe thead th {\n",
       "        text-align: right;\n",
       "    }\n",
       "</style>\n",
       "<table border=\"1\" class=\"dataframe\">\n",
       "  <thead>\n",
       "    <tr style=\"text-align: right;\">\n",
       "      <th></th>\n",
       "      <th>temporada</th>\n",
       "      <th>data_jogo</th>\n",
       "      <th>rodada</th>\n",
       "      <th>time_casa</th>\n",
       "      <th>time_fora</th>\n",
       "      <th>gols_casa</th>\n",
       "      <th>gols_fora</th>\n",
       "      <th>placar</th>\n",
       "      <th>resultado</th>\n",
       "    </tr>\n",
       "  </thead>\n",
       "  <tbody>\n",
       "    <tr>\n",
       "      <th>0</th>\n",
       "      <td>2012</td>\n",
       "      <td>2012-05-19 18:30:00</td>\n",
       "      <td>1</td>\n",
       "      <td>Palmeiras-SP</td>\n",
       "      <td>Portuguesa-SP</td>\n",
       "      <td>1</td>\n",
       "      <td>1</td>\n",
       "      <td>1-1</td>\n",
       "      <td>Empate</td>\n",
       "    </tr>\n",
       "    <tr>\n",
       "      <th>1</th>\n",
       "      <td>2012</td>\n",
       "      <td>2012-05-19 18:30:00</td>\n",
       "      <td>1</td>\n",
       "      <td>Sport-PE</td>\n",
       "      <td>Flamengo-RJ</td>\n",
       "      <td>1</td>\n",
       "      <td>1</td>\n",
       "      <td>1-1</td>\n",
       "      <td>Empate</td>\n",
       "    </tr>\n",
       "    <tr>\n",
       "      <th>2</th>\n",
       "      <td>2012</td>\n",
       "      <td>2012-05-19 21:00:00</td>\n",
       "      <td>1</td>\n",
       "      <td>Figueirense-SC</td>\n",
       "      <td>Nautico-PE</td>\n",
       "      <td>2</td>\n",
       "      <td>1</td>\n",
       "      <td>2-1</td>\n",
       "      <td>Vitória Casa</td>\n",
       "    </tr>\n",
       "    <tr>\n",
       "      <th>3</th>\n",
       "      <td>2012</td>\n",
       "      <td>2012-05-20 16:00:00</td>\n",
       "      <td>1</td>\n",
       "      <td>Ponte Preta-SP</td>\n",
       "      <td>Atletico-MG</td>\n",
       "      <td>0</td>\n",
       "      <td>1</td>\n",
       "      <td>0-1</td>\n",
       "      <td>Vitória Fora</td>\n",
       "    </tr>\n",
       "    <tr>\n",
       "      <th>4</th>\n",
       "      <td>2012</td>\n",
       "      <td>2012-05-20 16:00:00</td>\n",
       "      <td>1</td>\n",
       "      <td>Corinthians-SP</td>\n",
       "      <td>Fluminense-RJ</td>\n",
       "      <td>0</td>\n",
       "      <td>1</td>\n",
       "      <td>0-1</td>\n",
       "      <td>Vitória Fora</td>\n",
       "    </tr>\n",
       "  </tbody>\n",
       "</table>\n",
       "</div>"
      ],
      "text/plain": [
       "   temporada           data_jogo  rodada       time_casa      time_fora  \\\n",
       "0       2012 2012-05-19 18:30:00       1    Palmeiras-SP  Portuguesa-SP   \n",
       "1       2012 2012-05-19 18:30:00       1        Sport-PE    Flamengo-RJ   \n",
       "2       2012 2012-05-19 21:00:00       1  Figueirense-SC     Nautico-PE   \n",
       "3       2012 2012-05-20 16:00:00       1  Ponte Preta-SP    Atletico-MG   \n",
       "4       2012 2012-05-20 16:00:00       1  Corinthians-SP  Fluminense-RJ   \n",
       "\n",
       "   gols_casa  gols_fora placar     resultado  \n",
       "0          1          1    1-1        Empate  \n",
       "1          1          1    1-1        Empate  \n",
       "2          2          1    2-1  Vitória Casa  \n",
       "3          0          1    0-1  Vitória Fora  \n",
       "4          0          1    0-1  Vitória Fora  "
      ]
     },
     "execution_count": 16,
     "metadata": {},
     "output_type": "execute_result"
    }
   ],
   "source": [
    "brasileirao.head()"
   ]
  },
  {
   "cell_type": "markdown",
   "id": "0e984895",
   "metadata": {
    "id": "0e984895"
   },
   "source": [
    "## **Legenda**\n",
    "\n",
    "\n",
    "**temporada**: Ano/temporada do campeonato em disputa\n",
    "\n",
    "**data_jogo**: Data e horário em que o jogo foi realizado\n",
    "\n",
    "**rodada**: Rodada do campeonato em disputa\n",
    "   \n",
    "**time_casa**: Time que jogou como mandante \n",
    "\n",
    "**time_fora**: time que jogou como visitante\n",
    "\n",
    "**gols_casa**: Gols do time mandante no jogo inteiro (=99 caso seja nulo)\n",
    "\n",
    "**gols_fora**: Gols do time visitante no jogo inteiro (=99 caso seja nulo)\n",
    "\n",
    "**placar**: Placar final do jogo disputado (='99-99' caso seja nulo)\n",
    "   \n",
    "**resultado**: Resultado final do jogo disputado\n"
   ]
  },
  {
   "cell_type": "markdown",
   "id": "128612dc",
   "metadata": {
    "id": "128612dc"
   },
   "source": [
    "## **EXPLORAÇÃO**"
   ]
  },
  {
   "cell_type": "markdown",
   "id": "ed600ba8",
   "metadata": {
    "id": "ed600ba8"
   },
   "source": [
    "### Todos os times que participaram das edições de 2012 até 2021"
   ]
  },
  {
   "cell_type": "code",
   "execution_count": 17,
   "id": "1cf0731e",
   "metadata": {
    "id": "1cf0731e"
   },
   "outputs": [],
   "source": [
    "# Armazena na variável o nome de todos os times sem repetições\n",
    "todos_times = brasileirao.time_casa.unique()"
   ]
  },
  {
   "cell_type": "code",
   "execution_count": 18,
   "id": "7c674bf1",
   "metadata": {
    "id": "7c674bf1"
   },
   "outputs": [
    {
     "name": "stdout",
     "output_type": "stream",
     "text": [
      "36 times disputaram o Brasileirão entre as temporadas de 2012 e 2021;\n",
      "Os times que participaram foram:\n",
      "\n",
      "1- America-MG\n",
      "2- Atletico-GO\n",
      "3- Atletico-MG\n",
      "4- Atletico-PR\n",
      "5- Avai-SC\n",
      "6- Bahia-BA\n",
      "7- Botafogo-RJ\n",
      "8- Ceara-CE\n",
      "9- Chapecoense-SC\n",
      "10- Corinthians-SP\n",
      "11- Coritiba-PR\n",
      "12- Criciuma-SC\n",
      "13- Cruzeiro-MG\n",
      "14- Csa-AL\n",
      "15- Cuiaba-MT\n",
      "16- Figueirense-SC\n",
      "17- Flamengo-RJ\n",
      "18- Fluminense-RJ\n",
      "19- Fortaleza-CE\n",
      "20- Goias-GO\n",
      "21- Gremio-RS\n",
      "22- Internacional-RS\n",
      "23- Joinville-SC\n",
      "24- Juventude-RS\n",
      "25- Nautico-PE\n",
      "26- Palmeiras-SP\n",
      "27- Parana-PR\n",
      "28- Ponte Preta-SP\n",
      "29- Portuguesa-SP\n",
      "30- Red Bull Bragantino-SP\n",
      "31- Santa Cruz-PE\n",
      "32- Santos-SP\n",
      "33- Sao Paulo-SP\n",
      "34- Sport-PE\n",
      "35- Vasco da Gama-RJ\n",
      "36- Vitoria-BA\n"
     ]
    }
   ],
   "source": [
    "print(f'{len(todos_times)} times disputaram o Brasileirão entre as temporadas de 2012 e 2021;')\n",
    "print(f'Os times que participaram foram:\\n')\n",
    "\n",
    "for i, time in enumerate(sorted(todos_times)):\n",
    "    print(f'{i+1}- {time}')"
   ]
  },
  {
   "cell_type": "markdown",
   "id": "9093a290",
   "metadata": {
    "id": "9093a290"
   },
   "source": [
    "### Times que estiveram presentes em todas as 10 temporadas"
   ]
  },
  {
   "cell_type": "code",
   "execution_count": 19,
   "id": "2f43dca0",
   "metadata": {
    "id": "2f43dca0"
   },
   "outputs": [],
   "source": [
    "# Conta a quantidade de jogos que cada time teve jogando em casa\n",
    "times_jogos_casa = brasileirao.time_casa.value_counts()"
   ]
  },
  {
   "cell_type": "code",
   "execution_count": 20,
   "id": "4985897b",
   "metadata": {
    "id": "4985897b"
   },
   "outputs": [],
   "source": [
    "# Como cada temporada tem 38 jogos, sendo 19 como mandante e 19 como visitante, então o time que jogar 10 temporadas\n",
    "# terá jogado 190 partidas dentro de casa e 190 fora.\n",
    "times_unanimes = times_jogos_casa.loc[times_jogos_casa == 190].index\n",
    "times_unanimes = [times for times in times_unanimes]"
   ]
  },
  {
   "cell_type": "code",
   "execution_count": 21,
   "id": "0311e831",
   "metadata": {
    "id": "0311e831"
   },
   "outputs": [
    {
     "name": "stdout",
     "output_type": "stream",
     "text": [
      "7 times disputaram todas as temporadas entre 2012 e 2021;\n",
      "Esses times são:\n",
      "\n",
      "1- Atletico-MG\n",
      "2- Corinthians-SP\n",
      "3- Flamengo-RJ\n",
      "4- Fluminense-RJ\n",
      "5- Gremio-RS\n",
      "6- Santos-SP\n",
      "7- Sao Paulo-SP\n"
     ]
    }
   ],
   "source": [
    "print(f'{len(times_unanimes)} times disputaram todas as temporadas entre 2012 e 2021;')\n",
    "print(f'Esses times são:\\n')\n",
    "\n",
    "for i, time in enumerate(sorted(times_unanimes)):\n",
    "    print(f'{i+1}- {time}')"
   ]
  },
  {
   "cell_type": "markdown",
   "id": "e0d6db52",
   "metadata": {
    "id": "e0d6db52"
   },
   "source": [
    "### Times disputaram apenas 1 temporada"
   ]
  },
  {
   "cell_type": "code",
   "execution_count": 22,
   "id": "54190ba3",
   "metadata": {
    "id": "54190ba3"
   },
   "outputs": [],
   "source": [
    "# Conta a quantidade de jogos que cada time teve jogando em casa\n",
    "times_jogos_casa = brasileirao.time_casa.value_counts()"
   ]
  },
  {
   "cell_type": "code",
   "execution_count": 23,
   "id": "42c4db9d",
   "metadata": {
    "id": "42c4db9d"
   },
   "outputs": [],
   "source": [
    "# Como cada temporada tem 38 jogos, sendo 19 como mandante e 19 como visitante, então o time que jogou 1 temporada \n",
    "# terá jogado 19 partidas dentro de casa e 19 fora.\n",
    "times_menos_temporadas = times_jogos_casa.loc[times_jogos_casa == 19].index\n",
    "times_menos_temporadas = [times for times in times_menos_temporadas]"
   ]
  },
  {
   "cell_type": "code",
   "execution_count": 24,
   "id": "6e80c7ee",
   "metadata": {
    "id": "6e80c7ee"
   },
   "outputs": [
    {
     "name": "stdout",
     "output_type": "stream",
     "text": [
      "6 times disputaram apenas 1 temporada entre 2012 e 2021;\n",
      "Esses times são:\n",
      "\n",
      "1- Csa-AL\n",
      "2- Cuiaba-MT\n",
      "3- Joinville-SC\n",
      "4- Juventude-RS\n",
      "5- Parana-PR\n",
      "6- Santa Cruz-PE\n"
     ]
    }
   ],
   "source": [
    "print(f'{len(times_menos_temporadas)} times disputaram apenas 1 temporada entre 2012 e 2021;')\n",
    "print(f'Esses times são:\\n')\n",
    "\n",
    "for i, time in enumerate(sorted(times_menos_temporadas)):\n",
    "    print(f'{i+1}- {time}')"
   ]
  },
  {
   "cell_type": "markdown",
   "id": "52f9ba17",
   "metadata": {
    "id": "52f9ba17"
   },
   "source": [
    "### Percentuais de vitórias e empate"
   ]
  },
  {
   "cell_type": "code",
   "execution_count": 25,
   "id": "fee51cc8",
   "metadata": {
    "id": "fee51cc8"
   },
   "outputs": [],
   "source": [
    "# Remove o jogo que possui valor nulo (99x99 no placar) para não interferir na análise, pois não se sabe o resultado do jogo.\n",
    "placar_99 = brasileirao.loc[brasileirao.gols_casa == 99].index[0]\n",
    "brasileirao.drop(brasileirao.index[[placar_99]], inplace=True)\n",
    "\n",
    "# Reordena os índices\n",
    "brasileirao.reset_index(drop=True, inplace=True)"
   ]
  },
  {
   "cell_type": "code",
   "execution_count": 26,
   "id": "37c5f7ea",
   "metadata": {
    "id": "37c5f7ea"
   },
   "outputs": [],
   "source": [
    "# Armazena na variável a quantidade de vitória casa, vitória fora e empate, ambos no formato de porcentagem\n",
    "percentual_resultados = brasileirao.resultado.value_counts(normalize=True) * 100"
   ]
  },
  {
   "cell_type": "code",
   "execution_count": 27,
   "id": "527969ed",
   "metadata": {
    "id": "527969ed"
   },
   "outputs": [
    {
     "name": "stdout",
     "output_type": "stream",
     "text": [
      "Percentuais dos resultados dos times:\n",
      "\n",
      "Vitória do mandante: 49.05%\n",
      "Vitória do visitante: 26.91%\n",
      "Empate: 24.04%\n"
     ]
    }
   ],
   "source": [
    "print(f'Percentuais dos resultados dos times:\\n')\n",
    "print(f'Vitória do mandante: {percentual_resultados[0]:.2f}%')\n",
    "print(f'Vitória do visitante: {percentual_resultados[1]:.2f}%')\n",
    "print(f'Empate: {percentual_resultados[2]:.2f}%')"
   ]
  },
  {
   "cell_type": "code",
   "execution_count": 28,
   "id": "564af0e5",
   "metadata": {},
   "outputs": [
    {
     "data": {
      "image/png": "[encoded data removed]",
      "text/plain": [
       "<Figure size 576x576 with 1 Axes>"
      ]
     },
     "metadata": {},
     "output_type": "display_data"
    }
   ],
   "source": [
    "# Gráfico de Setores (Pizza)\n",
    "\n",
    "df_resultados = pd.DataFrame(percentual_resultados)\n",
    "\n",
    "plt.figure(figsize=(8,8))\n",
    "\n",
    "sizes=[0.7,0.7,0.7]\n",
    "colors = ['yellowgreen', 'lightskyblue', 'gold']\n",
    "patches, texts = plt.pie(sizes, colors=colors, startangle=90)\n",
    "plt.legend(patches, df_resultados.index, loc=\"best\")\n",
    "\n",
    "plt.pie(df_resultados.resultado, autopct= '% .2f %%', colors=colors)\n",
    "plt.title('Percentuais de Resultados na disputa do Brasileirão entre 2012 e 2021')\n",
    "\n",
    "plt.show()"
   ]
  },
  {
   "cell_type": "markdown",
   "id": "aafed366",
   "metadata": {
    "id": "aafed366"
   },
   "source": [
    "## **Criação de um novo DataFrame utilizando dados do existente**"
   ]
  },
  {
   "cell_type": "code",
   "execution_count": 29,
   "id": "v0c0ALTlFIZu",
   "metadata": {
    "id": "v0c0ALTlFIZu"
   },
   "outputs": [],
   "source": [
    "brasileirao_times = pd.DataFrame()"
   ]
  },
  {
   "cell_type": "markdown",
   "id": "POke6eLSx0JV",
   "metadata": {
    "id": "POke6eLSx0JV"
   },
   "source": [
    "### Total de jogos de cada time"
   ]
  },
  {
   "cell_type": "code",
   "execution_count": 30,
   "id": "c50e8583",
   "metadata": {
    "id": "c50e8583"
   },
   "outputs": [],
   "source": [
    "# Armazena na variável o número total de jogos de cada time (* 2 para ter o total, casa e fora)\n",
    "total_jogos_times = brasileirao.time_casa.value_counts() * 2"
   ]
  },
  {
   "cell_type": "markdown",
   "id": "aI4tVfVAyFDv",
   "metadata": {
    "id": "aI4tVfVAyFDv"
   },
   "source": [
    "### Total de vitórias, derrotas e empates em casa de cada time"
   ]
  },
  {
   "cell_type": "code",
   "execution_count": 31,
   "id": "de13e464",
   "metadata": {
    "id": "de13e464"
   },
   "outputs": [],
   "source": [
    "# Armazena nas variáveis o total de vitórias, derrotas e empates, respectivamente, de cada time jogando em casa\n",
    "total_vitorias_casa = brasileirao.loc[brasileirao.resultado == 'Vitória Casa'].time_casa.value_counts()\n",
    "total_derrotas_casa = brasileirao.loc[brasileirao.resultado == 'Vitória Fora'].time_casa.value_counts()\n",
    "total_empates_casa = brasileirao.loc[brasileirao.resultado == 'Empate'].time_casa.value_counts()\n",
    "\n",
    "# Armazena nas variáveis o total de gols de cada time jogando em casa\n",
    "total_gols_casa = brasileirao.groupby(brasileirao.time_casa).gols_casa.sum()"
   ]
  },
  {
   "cell_type": "code",
   "execution_count": 32,
   "id": "68a0a95d",
   "metadata": {
    "id": "68a0a95d"
   },
   "outputs": [],
   "source": [
    "# Reordena os índices\n",
    "total_vitorias_casa.sort_index(inplace=True)\n",
    "total_derrotas_casa.sort_index(inplace=True)\n",
    "total_empates_casa.sort_index(inplace=True)\n",
    "total_gols_casa.sort_index(inplace=True)"
   ]
  },
  {
   "cell_type": "markdown",
   "id": "ed1G_1ogyM3t",
   "metadata": {
    "id": "ed1G_1ogyM3t"
   },
   "source": [
    "### Total de vitórias, derrotas e empates jogando fora de cada time"
   ]
  },
  {
   "cell_type": "code",
   "execution_count": 33,
   "id": "2A1h16rHwy7f",
   "metadata": {
    "id": "2A1h16rHwy7f"
   },
   "outputs": [],
   "source": [
    "# Armazena nas variáveis o total de vitórias, derrotas e empates, respectivamente, de cada time jogando fora\n",
    "total_vitorias_fora = brasileirao.loc[brasileirao.resultado == 'Vitória Fora'].time_fora.value_counts()\n",
    "total_derrotas_fora = brasileirao.loc[brasileirao.resultado == 'Vitória Casa'].time_fora.value_counts()\n",
    "total_empates_fora = brasileirao.loc[brasileirao.resultado == 'Empate'].time_fora.value_counts()\n",
    "\n",
    "# Armazena nas variáveis o total de gols de cada time jogando em casa\n",
    "total_gols_fora = brasileirao.groupby(brasileirao.time_fora).gols_fora.sum()"
   ]
  },
  {
   "cell_type": "code",
   "execution_count": 34,
   "id": "zZ80ASEkxFyV",
   "metadata": {
    "id": "zZ80ASEkxFyV"
   },
   "outputs": [],
   "source": [
    "# Reordena os índices\n",
    "total_vitorias_fora.sort_index(inplace=True)\n",
    "total_derrotas_fora.sort_index(inplace=True)\n",
    "total_empates_fora.sort_index(inplace=True)\n",
    "total_gols_fora.sort_index(inplace=True)"
   ]
  },
  {
   "cell_type": "markdown",
   "id": "Gdbxlpat52PN",
   "metadata": {
    "id": "Gdbxlpat52PN"
   },
   "source": [
    "### Total de gols acumulados de cada time"
   ]
  },
  {
   "cell_type": "code",
   "execution_count": 35,
   "id": "OsayLA6O55dF",
   "metadata": {
    "id": "OsayLA6O55dF"
   },
   "outputs": [],
   "source": [
    "# Total de gols acumulados de cada time durante todas as temporadas\n",
    "total_gols_times = total_gols_casa + total_gols_fora"
   ]
  },
  {
   "cell_type": "markdown",
   "id": "IrPIxrctyQY1",
   "metadata": {
    "id": "IrPIxrctyQY1"
   },
   "source": [
    "### Total de pontos acumulados de cada time"
   ]
  },
  {
   "cell_type": "code",
   "execution_count": 36,
   "id": "I9l6EDC9xK4U",
   "metadata": {
    "id": "I9l6EDC9xK4U"
   },
   "outputs": [],
   "source": [
    "# Total de pontos acumulados de cada time durante todas as temporadas\n",
    "total_pontos_times = (total_vitorias_casa * 3) + (total_vitorias_fora * 3) + total_empates_casa + total_empates_fora"
   ]
  },
  {
   "cell_type": "markdown",
   "id": "FX9ZgVIq8--t",
   "metadata": {
    "id": "FX9ZgVIq8--t"
   },
   "source": [
    "### Aproveitamento de cada time\n",
    "\n",
    "--> Aproveitamento é o resultado da divisão da quantidade de pontos adquiridos pela quantidade de pontos possíveis para aquele time;\n",
    "\n",
    "--> Multiplicado por 100 pois está representado em porcentagem."
   ]
  },
  {
   "cell_type": "code",
   "execution_count": 37,
   "id": "NtpCymEb9Onv",
   "metadata": {
    "id": "NtpCymEb9Onv"
   },
   "outputs": [],
   "source": [
    "# Aproveitamento final (em %) cada time após todas as temporadas\n",
    "aproveitamento_final_times = total_pontos_times / (total_jogos_times * 3) * 100"
   ]
  },
  {
   "cell_type": "markdown",
   "id": "c18d31c5",
   "metadata": {},
   "source": [
    "### Quantidade de temporadas disputadas por cada time"
   ]
  },
  {
   "cell_type": "code",
   "execution_count": 38,
   "id": "sThTyXdxLSx8",
   "metadata": {
    "id": "sThTyXdxLSx8"
   },
   "outputs": [],
   "source": [
    "def temporadas_competidas(total_jogos_times):\n",
    "    \"\"\"Retorna a quantidade de temporadas disputadas pelo time de \n",
    "       acordo com a quantidade total de jogos disputados por ele.\"\"\"\n",
    "    temporadas_disputadas = 0\n",
    "    \n",
    "    if total_jogos_times <= 38 * 1:\n",
    "        temporadas_disputadas += 1\n",
    "    elif total_jogos_times <= 38 * 2:\n",
    "        temporadas_disputadas += 2\n",
    "    elif total_jogos_times <= 38 * 3:\n",
    "        temporadas_disputadas += 3\n",
    "    elif total_jogos_times <= 38 * 4:\n",
    "        temporadas_disputadas += 4\n",
    "    elif total_jogos_times <= 38 * 5:\n",
    "        temporadas_disputadas += 5\n",
    "    elif total_jogos_times <= 38 * 6:\n",
    "        temporadas_disputadas += 6\n",
    "    elif total_jogos_times <= 38 * 7:\n",
    "        temporadas_disputadas += 7\n",
    "    elif total_jogos_times <= 38 * 8:\n",
    "        temporadas_disputadas += 8\n",
    "    elif total_jogos_times <= 38 * 9:\n",
    "        temporadas_disputadas += 9   \n",
    "    else:\n",
    "        temporadas_disputadas += 10\n",
    "    \n",
    "    return temporadas_disputadas"
   ]
  },
  {
   "cell_type": "markdown",
   "id": "YukyvBDD4DZF",
   "metadata": {
    "id": "YukyvBDD4DZF"
   },
   "source": [
    "### Adição dos dados no DataFrame"
   ]
  },
  {
   "cell_type": "code",
   "execution_count": 39,
   "id": "yKr3CwPRFSGM",
   "metadata": {
    "id": "yKr3CwPRFSGM"
   },
   "outputs": [],
   "source": [
    "# Cria as colunas do DataFrame\n",
    "brasileirao_times['total_jogos'] = total_jogos_times\n",
    "brasileirao_times['qtde_temporadas_disputadas'] = brasileirao_times.total_jogos.apply(lambda x: temporadas_competidas(x))\n",
    "brasileirao_times['total_vitorias_casa'] = total_vitorias_casa\n",
    "brasileirao_times['total_empates_casa'] = total_empates_casa\n",
    "brasileirao_times['total_derrotas_casa'] = total_derrotas_casa\n",
    "brasileirao_times['total_gols_casa'] = total_gols_casa\n",
    "brasileirao_times['total_vitorias_fora'] = total_vitorias_fora\n",
    "brasileirao_times['total_empates_fora'] = total_empates_fora\n",
    "brasileirao_times['total_derrotas_fora'] = total_derrotas_fora\n",
    "brasileirao_times['total_gols_fora'] = total_gols_fora\n",
    "brasileirao_times['total_gols'] = total_gols_times\n",
    "brasileirao_times['total_pontos'] = total_pontos_times\n",
    "brasileirao_times['aproveitamento_final_%'] = round(aproveitamento_final_times, 2)"
   ]
  },
  {
   "cell_type": "code",
   "execution_count": 40,
   "id": "SDJNocynMcnh",
   "metadata": {
    "id": "SDJNocynMcnh"
   },
   "outputs": [],
   "source": [
    "# Ordena os índices (nome dos times) em ordem alfabética\n",
    "brasileirao_times.sort_index(inplace=True)"
   ]
  },
  {
   "cell_type": "code",
   "execution_count": 41,
   "id": "9HuvEYaB01Pd",
   "metadata": {
    "id": "9HuvEYaB01Pd"
   },
   "outputs": [
    {
     "data": {
      "text/html": [
       "<div>\n",
       "<style scoped>\n",
       "    .dataframe tbody tr th:only-of-type {\n",
       "        vertical-align: middle;\n",
       "    }\n",
       "\n",
       "    .dataframe tbody tr th {\n",
       "        vertical-align: top;\n",
       "    }\n",
       "\n",
       "    .dataframe thead th {\n",
       "        text-align: right;\n",
       "    }\n",
       "</style>\n",
       "<table border=\"1\" class=\"dataframe\">\n",
       "  <thead>\n",
       "    <tr style=\"text-align: right;\">\n",
       "      <th></th>\n",
       "      <th>total_jogos</th>\n",
       "      <th>qtde_temporadas_disputadas</th>\n",
       "      <th>total_vitorias_casa</th>\n",
       "      <th>total_empates_casa</th>\n",
       "      <th>total_derrotas_casa</th>\n",
       "      <th>total_gols_casa</th>\n",
       "      <th>total_vitorias_fora</th>\n",
       "      <th>total_empates_fora</th>\n",
       "      <th>total_derrotas_fora</th>\n",
       "      <th>total_gols_fora</th>\n",
       "      <th>total_gols</th>\n",
       "      <th>total_pontos</th>\n",
       "      <th>aproveitamento_final_%</th>\n",
       "    </tr>\n",
       "  </thead>\n",
       "  <tbody>\n",
       "    <tr>\n",
       "      <th>America-MG</th>\n",
       "      <td>114</td>\n",
       "      <td>3</td>\n",
       "      <td>24</td>\n",
       "      <td>16</td>\n",
       "      <td>17</td>\n",
       "      <td>57</td>\n",
       "      <td>6</td>\n",
       "      <td>15</td>\n",
       "      <td>36</td>\n",
       "      <td>37</td>\n",
       "      <td>94</td>\n",
       "      <td>121</td>\n",
       "      <td>35.38</td>\n",
       "    </tr>\n",
       "    <tr>\n",
       "      <th>Atletico-GO</th>\n",
       "      <td>150</td>\n",
       "      <td>4</td>\n",
       "      <td>20</td>\n",
       "      <td>27</td>\n",
       "      <td>28</td>\n",
       "      <td>78</td>\n",
       "      <td>20</td>\n",
       "      <td>19</td>\n",
       "      <td>37</td>\n",
       "      <td>68</td>\n",
       "      <td>146</td>\n",
       "      <td>166</td>\n",
       "      <td>36.89</td>\n",
       "    </tr>\n",
       "    <tr>\n",
       "      <th>Atletico-MG</th>\n",
       "      <td>380</td>\n",
       "      <td>10</td>\n",
       "      <td>125</td>\n",
       "      <td>35</td>\n",
       "      <td>30</td>\n",
       "      <td>355</td>\n",
       "      <td>55</td>\n",
       "      <td>60</td>\n",
       "      <td>74</td>\n",
       "      <td>219</td>\n",
       "      <td>574</td>\n",
       "      <td>635</td>\n",
       "      <td>55.70</td>\n",
       "    </tr>\n",
       "    <tr>\n",
       "      <th>Atletico-PR</th>\n",
       "      <td>342</td>\n",
       "      <td>9</td>\n",
       "      <td>98</td>\n",
       "      <td>39</td>\n",
       "      <td>34</td>\n",
       "      <td>262</td>\n",
       "      <td>42</td>\n",
       "      <td>39</td>\n",
       "      <td>90</td>\n",
       "      <td>156</td>\n",
       "      <td>418</td>\n",
       "      <td>498</td>\n",
       "      <td>48.54</td>\n",
       "    </tr>\n",
       "    <tr>\n",
       "      <th>Avai-SC</th>\n",
       "      <td>114</td>\n",
       "      <td>3</td>\n",
       "      <td>14</td>\n",
       "      <td>23</td>\n",
       "      <td>20</td>\n",
       "      <td>51</td>\n",
       "      <td>10</td>\n",
       "      <td>10</td>\n",
       "      <td>37</td>\n",
       "      <td>34</td>\n",
       "      <td>85</td>\n",
       "      <td>105</td>\n",
       "      <td>30.70</td>\n",
       "    </tr>\n",
       "  </tbody>\n",
       "</table>\n",
       "</div>"
      ],
      "text/plain": [
       "             total_jogos  qtde_temporadas_disputadas  total_vitorias_casa  \\\n",
       "America-MG           114                           3                   24   \n",
       "Atletico-GO          150                           4                   20   \n",
       "Atletico-MG          380                          10                  125   \n",
       "Atletico-PR          342                           9                   98   \n",
       "Avai-SC              114                           3                   14   \n",
       "\n",
       "             total_empates_casa  total_derrotas_casa  total_gols_casa  \\\n",
       "America-MG                   16                   17               57   \n",
       "Atletico-GO                  27                   28               78   \n",
       "Atletico-MG                  35                   30              355   \n",
       "Atletico-PR                  39                   34              262   \n",
       "Avai-SC                      23                   20               51   \n",
       "\n",
       "             total_vitorias_fora  total_empates_fora  total_derrotas_fora  \\\n",
       "America-MG                     6                  15                   36   \n",
       "Atletico-GO                   20                  19                   37   \n",
       "Atletico-MG                   55                  60                   74   \n",
       "Atletico-PR                   42                  39                   90   \n",
       "Avai-SC                       10                  10                   37   \n",
       "\n",
       "             total_gols_fora  total_gols  total_pontos  aproveitamento_final_%  \n",
       "America-MG                37          94           121                   35.38  \n",
       "Atletico-GO               68         146           166                   36.89  \n",
       "Atletico-MG              219         574           635                   55.70  \n",
       "Atletico-PR              156         418           498                   48.54  \n",
       "Avai-SC                   34          85           105                   30.70  "
      ]
     },
     "execution_count": 41,
     "metadata": {},
     "output_type": "execute_result"
    }
   ],
   "source": [
    "brasileirao_times.head()"
   ]
  },
  {
   "cell_type": "markdown",
   "id": "ff408c81",
   "metadata": {
    "id": "eLiDi_F_Nl7U"
   },
   "source": [
    "## **Gráficos**"
   ]
  },
  {
   "cell_type": "code",
   "execution_count": 42,
   "id": "2fb779f7",
   "metadata": {},
   "outputs": [
    {
     "data": {
      "image/png": "[encoded data removed]",
      "text/plain": [
       "<Figure size 1440x1008 with 1 Axes>"
      ]
     },
     "metadata": {
      "needs_background": "light"
     },
     "output_type": "display_data"
    }
   ],
   "source": [
    "br_times_temp_ordenadas = brasileirao_times.sort_values(by='qtde_temporadas_disputadas', ascending=False)\n",
    "\n",
    "fig, ax = plt.subplots(figsize=(20, 14))\n",
    "ax = sns.barplot(x=br_times_temp_ordenadas['qtde_temporadas_disputadas'],y=br_times_temp_ordenadas.index, palette = 'mako')\n",
    "ax.set_title('Quantidade de temporadas disputadas pelos times do Brasileirão entre 2012 e 2021', fontsize=22)\n",
    "ax.set_xlabel('Temporadas disputadas', fontsize=16)\n",
    "ax.set_ylabel('Times')\n",
    "plt.show()"
   ]
  },
  {
   "cell_type": "code",
   "execution_count": 43,
   "id": "dfe34ee2",
   "metadata": {},
   "outputs": [
    {
     "data": {
      "image/png": "[encoded data removed]",
      "text/plain": [
       "<Figure size 1440x1008 with 1 Axes>"
      ]
     },
     "metadata": {
      "needs_background": "light"
     },
     "output_type": "display_data"
    }
   ],
   "source": [
    "br_times_pts_ordenados = brasileirao_times.sort_values(by='total_pontos', ascending=False)\n",
    "\n",
    "fig, ax = plt.subplots(figsize=(20, 14))\n",
    "ax = sns.barplot(x=br_times_pts_ordenados['total_pontos'],y=br_times_pts_ordenados.index, palette = 'rocket')\n",
    "ax.set_title('Quantidade de pontos acumulados dos times do Brasileirão entre 2012 e 2021', fontsize=22)\n",
    "ax.set_xlabel('Pontos', fontsize=16)\n",
    "ax.set_ylabel('Times')\n",
    "plt.show()"
   ]
  },
  {
   "cell_type": "code",
   "execution_count": 44,
   "id": "1fc7cf9d",
   "metadata": {},
   "outputs": [
    {
     "data": {
      "image/png": "[encoded data removed]",
      "text/plain": [
       "<Figure size 1440x1008 with 1 Axes>"
      ]
     },
     "metadata": {
      "needs_background": "light"
     },
     "output_type": "display_data"
    }
   ],
   "source": [
    "br_times_gols_ordenados = brasileirao_times.sort_values(by='total_gols', ascending=False)\n",
    "\n",
    "fig, ax = plt.subplots(figsize=(20, 14))\n",
    "ax = sns.barplot(x=br_times_gols_ordenados['total_gols'],y=br_times_gols_ordenados.index, palette = 'viridis')\n",
    "ax.set_title('Quantidade de gols acumulados dos times do Brasileirão entre 2012 e 2021', fontsize=22)\n",
    "ax.set_xlabel('Gols', fontsize=16)\n",
    "ax.set_ylabel('Times')\n",
    "plt.show()"
   ]
  },
  {
   "cell_type": "code",
   "execution_count": 45,
   "id": "e963b7cb",
   "metadata": {},
   "outputs": [
    {
     "data": {
      "image/png": "[encoded data removed]",
      "text/plain": [
       "<Figure size 1440x1008 with 1 Axes>"
      ]
     },
     "metadata": {
      "needs_background": "light"
     },
     "output_type": "display_data"
    }
   ],
   "source": [
    "br_times_aproveitamentos_ordenados = brasileirao_times.sort_values(by='aproveitamento_final_%', ascending=False)\n",
    "\n",
    "fig, ax = plt.subplots(figsize=(20, 14))\n",
    "ax = sns.barplot(x=br_times_aproveitamentos_ordenados['aproveitamento_final_%'],y=br_times_aproveitamentos_ordenados.index, \n",
    "                 palette = 'Spectral')\n",
    "ax.set_title('Aproveitamento, em %, dos times do Brasileirão entre 2012 e 2021', fontsize=22)\n",
    "ax.set_xlabel('Aproveitamento(%)', fontsize=16)\n",
    "ax.set_ylabel('Times')\n",
    "plt.show()"
   ]
  },
  {
   "cell_type": "markdown",
   "id": "80f5311c",
   "metadata": {},
   "source": [
    "## Exportação dos DataFrames"
   ]
  },
  {
   "cell_type": "code",
   "execution_count": 46,
   "id": "967f5574",
   "metadata": {},
   "outputs": [],
   "source": [
    "brasileirao.to_csv('brasileirao.csv', sep=';', encoding='utf-8', index=False)\n",
    "brasileirao_times.to_csv('brasileirao_times.csv', sep=';', encoding='utf-8', index=False)"
   ]
  },
  {
   "cell_type": "markdown",
   "id": "a111d58f",
   "metadata": {},
   "source": [
    "# **CONCLUSÕES**"
   ]
  },
  {
   "cell_type": "markdown",
   "id": "908149f6",
   "metadata": {},
   "source": [
    "- 36 times disputaram o Brasileirão no período entre 2012 e 2021;\n",
    "- 7 times estiveram presentes em todas as disputas nesse período;\n",
    "- 6 times estiveram presentes em apenas 1 disputa durante esse período;\n",
    "- O percentual de vitórias jogando em casa é de 49.05%, dando a entender que o mando de campo influencia significativamente o resultado do jogo;\n",
    "- O time que mais acumulou pontos e gols durante esse período foi o Atlético-MG, que também teve o melhor aproveitamento."
   ]
  }
 ],
 "metadata": {
  "colab": {
   "collapsed_sections": [
    "0e984895"
   ],
   "provenance": []
  },
  "kernelspec": {
   "display_name": "Python 3 (ipykernel)",
   "language": "python",
   "name": "python3"
  },
  "language_info": {
   "codemirror_mode": {
    "name": "ipython",
    "version": 3
   },
   "file_extension": ".py",
   "mimetype": "text/x-python",
   "name": "python",
   "nbconvert_exporter": "python",
   "pygments_lexer": "ipython3",
   "version": "3.9.12"
  }
 },
 "nbformat": 4,
 "nbformat_minor": 5
}
